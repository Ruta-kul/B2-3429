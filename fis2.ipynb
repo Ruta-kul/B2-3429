{
  "nbformat": 4,
  "nbformat_minor": 0,
  "metadata": {
    "colab": {
      "name": "fis2.ipynb",
      "version": "0.3.2",
      "provenance": [],
      "include_colab_link": true
    },
    "kernelspec": {
      "name": "python3",
      "display_name": "Python 3"
    }
  },
  "cells": [
    {
      "cell_type": "markdown",
      "metadata": {
        "id": "view-in-github",
        "colab_type": "text"
      },
      "source": [
        "<a href=\"https://colab.research.google.com/github/Ruta-kul/B2-3429/blob/master/fis2.ipynb\" target=\"_parent\"><img src=\"https://colab.research.google.com/assets/colab-badge.svg\" alt=\"Open In Colab\"/></a>"
      ]
    },
    {
      "metadata": {
        "id": "rGycFna2Sq8W",
        "colab_type": "code",
        "colab": {
          "base_uri": "https://localhost:8080/",
          "height": 343
        },
        "outputId": "849d6700-33d7-4f20-eaa5-8e420091a323"
      },
      "cell_type": "code",
      "source": [
        "pip install praw\n"
      ],
      "execution_count": 2,
      "outputs": [
        {
          "output_type": "stream",
          "text": [
            "Collecting praw\n",
            "\u001b[?25l  Downloading https://files.pythonhosted.org/packages/9a/c4/b33aa84d9c5c582d2fd92cb28b7027b5b6285485a68e56c9748cd49dd95b/praw-6.1.1-py2.py3-none-any.whl (117kB)\n",
            "\u001b[K    100% |████████████████████████████████| 122kB 6.0MB/s \n",
            "\u001b[?25hCollecting websocket-client>=0.54.0 (from praw)\n",
            "\u001b[?25l  Downloading https://files.pythonhosted.org/packages/29/19/44753eab1fdb50770ac69605527e8859468f3c0fd7dc5a76dd9c4dbd7906/websocket_client-0.56.0-py2.py3-none-any.whl (200kB)\n",
            "\u001b[K    100% |████████████████████████████████| 204kB 12.2MB/s \n",
            "\u001b[?25hCollecting prawcore<2.0,>=1.0.0 (from praw)\n",
            "  Downloading https://files.pythonhosted.org/packages/76/b5/ce6282dea45cba6f08a30e25d18e0f3d33277e2c9fcbda75644b8dc0089b/prawcore-1.0.1-py2.py3-none-any.whl\n",
            "Collecting update-checker>=0.16 (from praw)\n",
            "  Downloading https://files.pythonhosted.org/packages/17/c9/ab11855af164d03be0ff4fddd4c46a5bd44799a9ecc1770e01a669c21168/update_checker-0.16-py2.py3-none-any.whl\n",
            "Requirement already satisfied: six in /usr/local/lib/python3.6/dist-packages (from websocket-client>=0.54.0->praw) (1.11.0)\n",
            "Requirement already satisfied: requests<3.0,>=2.6.0 in /usr/local/lib/python3.6/dist-packages (from prawcore<2.0,>=1.0.0->praw) (2.18.4)\n",
            "Requirement already satisfied: certifi>=2017.4.17 in /usr/local/lib/python3.6/dist-packages (from requests<3.0,>=2.6.0->prawcore<2.0,>=1.0.0->praw) (2019.3.9)\n",
            "Requirement already satisfied: urllib3<1.23,>=1.21.1 in /usr/local/lib/python3.6/dist-packages (from requests<3.0,>=2.6.0->prawcore<2.0,>=1.0.0->praw) (1.22)\n",
            "Requirement already satisfied: idna<2.7,>=2.5 in /usr/local/lib/python3.6/dist-packages (from requests<3.0,>=2.6.0->prawcore<2.0,>=1.0.0->praw) (2.6)\n",
            "Requirement already satisfied: chardet<3.1.0,>=3.0.2 in /usr/local/lib/python3.6/dist-packages (from requests<3.0,>=2.6.0->prawcore<2.0,>=1.0.0->praw) (3.0.4)\n",
            "Installing collected packages: websocket-client, prawcore, update-checker, praw\n",
            "Successfully installed praw-6.1.1 prawcore-1.0.1 update-checker-0.16 websocket-client-0.56.0\n"
          ],
          "name": "stdout"
        }
      ]
    },
    {
      "metadata": {
        "id": "HadnUOlqS5F9",
        "colab_type": "code",
        "colab": {}
      },
      "cell_type": "code",
      "source": [
        "import praw\n",
        "reddit = praw.Reddit(client_id='d6FfvXfjgjF76g', client_secret=\"5-mzG7KSb_s1KU1YglvHtZPWSGA\",\n",
        "                     user_agent='(Mozilla/5.0 (Macintosh; Intel Mac OS X 10_14_4) AppleWebKit/537.36 (KHTML, like Gecko) Chrome/73.0.3683.103 Safari/537.36)',\n",
        "                     user_name = 'rutakul', password = 'ruta@reddit')\n"
      ],
      "execution_count": 0,
      "outputs": []
    },
    {
      "metadata": {
        "id": "xZAsynDxS8DG",
        "colab_type": "code",
        "colab": {
          "base_uri": "https://localhost:8080/",
          "height": 54
        },
        "outputId": "990911d8-f4ae-4a1f-aa30-780612316ecd"
      },
      "cell_type": "code",
      "source": [
        "import json\n",
        "list_of_items = []\n",
        "fields = ('title', 'url', 'score', 'created_utc', 'num_comments','selftext')\n",
        "\n",
        "for submission in reddit.subreddit('DunderMifflin').hot(limit=10):\n",
        "    to_dict = vars(submission)\n",
        "    sub_dict = {field:to_dict[field] for field in fields}\n",
        "    list_of_items.append(sub_dict)\n",
        "\n",
        "json_str = json.dumps(list_of_items)\n",
        "print(json_str)"
      ],
      "execution_count": 11,
      "outputs": [
        {
          "output_type": "stream",
          "text": [
            "[{\"title\": \"[Mod Post] If you're posting a recent article, headline, tweet etc, please check the sub first to make sure it's not already been posted.\", \"url\": \"https://www.reddit.com/r/DunderMifflin/comments/al4l0a/mod_post_if_youre_posting_a_recent_article/\", \"score\": 509, \"created_utc\": 1548795140.0, \"num_comments\": 50, \"selftext\": \"I've had to remove 20+ \\\"Man uses CPR technique he learned from The Office to save woman's life\\\" posts today alone. It became national news and a lot of websites reported it, it immediately hit the front page. Even when it was top of the front page a few days ago, people were still posting it.\\n\\n*Please* check the sub before you post things like this. Check the front page, check 'new', just take 10 seconds to glance and see if it's already there first. If you want to earn an extra Schrute buck, you could even use the search bar!  If an article is a few days old and has thousands of views, chances are it's already been posted and we'll just remove your post. \\n\\n---\\n\\nAlso, quick reminder to [read the rules](https://i.redd.it/w9drnp65p5b11.gif) in the sidebar before submitting! We ask that users don't post frequent or recent reposts, there's no point clogging up the sub with content we've all already seen. \\n\\nThanks\"}, {\"title\": \"Just got married... Feelin' hot hot hot \\ud83c\\udfb6\", \"url\": \"https://i.imgur.com/LJHhKBw.jpg\", \"score\": 12645, \"created_utc\": 1555704869.0, \"num_comments\": 378, \"selftext\": \"\"}, {\"title\": \"Not bad for a day in the life of a dogfood company\", \"url\": \"https://i.redd.it/ouhv8gatw7t21.jpg\", \"score\": 15606, \"created_utc\": 1555678310.0, \"num_comments\": 152, \"selftext\": \"\"}, {\"title\": \"Netflix: Are you still watching \\\"the office\\\"\", \"url\": \"https://i.redd.it/dol1tmcly7t21.jpg\", \"score\": 5545, \"created_utc\": 1555678914.0, \"num_comments\": 44, \"selftext\": \"\"}, {\"title\": \"Ran into Jan Levinson at the Forbidden City in Beijing, China!\", \"url\": \"https://i.redd.it/j5o37pj257t21.jpg\", \"score\": 13225, \"created_utc\": 1555668984.0, \"num_comments\": 404, \"selftext\": \"\"}, {\"title\": \"Billie Ellish and her strange addiction\", \"url\": \"https://i.redd.it/n0ptsv7028t21.jpg\", \"score\": 3893, \"created_utc\": 1555680064.0, \"num_comments\": 105, \"selftext\": \"\"}, {\"title\": \"We all know who the biggest icon at Coucharella is.\", \"url\": \"https://i.redd.it/k3kpw5ze59t21.jpg\", \"score\": 970, \"created_utc\": 1555693310.0, \"num_comments\": 25, \"selftext\": \"\"}, {\"title\": \"Honestly surprised it took this long for someone to make these\", \"url\": \"https://i.redd.it/cw132jxim8t21.jpg\", \"score\": 895, \"created_utc\": 1555687032.0, \"num_comments\": 38, \"selftext\": \"\"}, {\"title\": \"Parkouurrr\", \"url\": \"https://i.redd.it/ch61763638t21.jpg\", \"score\": 1246, \"created_utc\": 1555680448.0, \"num_comments\": 27, \"selftext\": \"\"}, {\"title\": \"My boyfriend and I met Oscar at a convention in Philadelphia.\", \"url\": \"https://i.redd.it/ohcc9pp1b4t21.jpg\", \"score\": 20035, \"created_utc\": 1555634670.0, \"num_comments\": 227, \"selftext\": \"\"}]\n"
          ],
          "name": "stdout"
        }
      ]
    }
  ]
}